{
 "cells": [
  {
   "cell_type": "code",
   "execution_count": 1,
   "metadata": {
    "executionInfo": {
     "elapsed": 269,
     "status": "ok",
     "timestamp": 1682818913352,
     "user": {
      "displayName": "Der Fuchs",
      "userId": "11474674245867075881"
     },
     "user_tz": -120
    },
    "id": "gTuIzDaS0cN9"
   },
   "outputs": [],
   "source": [
    "import pandas as pd\n",
    "import numpy as np\n",
    "import matplotlib.pyplot as plta"
   ]
  },
  {
   "cell_type": "code",
   "execution_count": 2,
   "metadata": {
    "executionInfo": {
     "elapsed": 7,
     "status": "ok",
     "timestamp": 1682818913617,
     "user": {
      "displayName": "Der Fuchs",
      "userId": "11474674245867075881"
     },
     "user_tz": -120
    },
    "id": "ISigXscE0eGa"
   },
   "outputs": [],
   "source": [
    "# Load the stock data into a pandas dataframe\n",
    "df = pd.read_csv('TSLA.csv')"
   ]
  },
  {
   "cell_type": "code",
   "execution_count": 3,
   "metadata": {
    "executionInfo": {
     "elapsed": 279,
     "status": "ok",
     "timestamp": 1682818913891,
     "user": {
      "displayName": "Der Fuchs",
      "userId": "11474674245867075881"
     },
     "user_tz": -120
    },
    "id": "naglWG4-tdLK"
   },
   "outputs": [],
   "source": [
    "# Define a function to identify the morning star pattern\n",
    "def is_morning_star(row):\n",
    "    # Check that the pattern exists\n",
    "    if len(df) < 3 or row.name < 2:\n",
    "        return False\n",
    "    # Check that the pattern is a morning star\n",
    "    prev_close = df.loc[row.name - 1, 'Close']\n",
    "    prev2_close = df.loc[row.name - 2, 'Close']\n",
    "    prev_open = df.loc[row.name - 1, 'Open']\n",
    "    prev2_open = df.loc[row.name - 2, 'Open']\n",
    "    curr_close = row['Close']\n",
    "    curr_open = row['Open']\n",
    "    if (prev_close < prev2_close and prev_close < prev2_open and\n",
    "            curr_close > prev_close and curr_open < prev_close and\n",
    "            curr_open > prev_open):\n",
    "        return True\n",
    "    else:\n",
    "        return False\n",
    "\n",
    "# Identify the morning star patterns in the data\n",
    "morning_star_mask = df.apply(is_morning_star, axis=1)\n",
    "morning_star_dates = df[morning_star_mask]['Date']"
   ]
  },
  {
   "cell_type": "code",
   "execution_count": 4,
   "metadata": {
    "colab": {
     "base_uri": "https://localhost:8080/"
    },
    "executionInfo": {
     "elapsed": 15,
     "status": "ok",
     "timestamp": 1682818913893,
     "user": {
      "displayName": "Der Fuchs",
      "userId": "11474674245867075881"
     },
     "user_tz": -120
    },
    "id": "IFZpu1de0ktL",
    "outputId": "c92a25c9-7d02-42e2-d4f4-5c46310e4ee0"
   },
   "outputs": [
    {
     "name": "stdout",
     "output_type": "stream",
     "text": [
      "Dates of morning star patterns:\n"
     ]
    }
   ],
   "source": [
    "# Print out the dates of the morning star patterns\n",
    "print('Dates of morning star patterns:')\n",
    "for date in morning_star_dates:\n",
    "    print(date)"
   ]
  },
  {
   "cell_type": "code",
   "execution_count": 5,
   "metadata": {
    "colab": {
     "base_uri": "https://localhost:8080/",
     "height": 803
    },
    "executionInfo": {
     "elapsed": 8011,
     "status": "ok",
     "timestamp": 1682818921893,
     "user": {
      "displayName": "Der Fuchs",
      "userId": "11474674245867075881"
     },
     "user_tz": -120
    },
    "id": "Gcvg4APt0rjw",
    "outputId": "f333e8ee-7175-4965-9799-fe7250d2e58b"
   },
   "outputs": [
    {
     "ename": "NameError",
     "evalue": "name 'plt' is not defined",
     "output_type": "error",
     "traceback": [
      "\u001b[0;31m---------------------------------------------------------------------------\u001b[0m",
      "\u001b[0;31mNameError\u001b[0m                                 Traceback (most recent call last)",
      "Cell \u001b[0;32mIn[5], line 2\u001b[0m\n\u001b[1;32m      1\u001b[0m \u001b[38;5;66;03m# Plot the stock data with the morning star patterns highlighted\u001b[39;00m\n\u001b[0;32m----> 2\u001b[0m fig, ax \u001b[38;5;241m=\u001b[39m \u001b[43mplt\u001b[49m\u001b[38;5;241m.\u001b[39msubplots(figsize\u001b[38;5;241m=\u001b[39m(\u001b[38;5;241m20\u001b[39m, \u001b[38;5;241m10\u001b[39m))\n\u001b[1;32m      3\u001b[0m ax\u001b[38;5;241m.\u001b[39mplot(df[\u001b[38;5;124m'\u001b[39m\u001b[38;5;124mDate\u001b[39m\u001b[38;5;124m'\u001b[39m], df[\u001b[38;5;124m'\u001b[39m\u001b[38;5;124mClose\u001b[39m\u001b[38;5;124m'\u001b[39m], label\u001b[38;5;241m=\u001b[39m\u001b[38;5;124m'\u001b[39m\u001b[38;5;124mClosing Price\u001b[39m\u001b[38;5;124m'\u001b[39m)\n\u001b[1;32m      4\u001b[0m ax\u001b[38;5;241m.\u001b[39mscatter(morning_star_dates, df[morning_star_mask][\u001b[38;5;124m'\u001b[39m\u001b[38;5;124mClose\u001b[39m\u001b[38;5;124m'\u001b[39m], color\u001b[38;5;241m=\u001b[39m\u001b[38;5;124m'\u001b[39m\u001b[38;5;124mr\u001b[39m\u001b[38;5;124m'\u001b[39m, label\u001b[38;5;241m=\u001b[39m\u001b[38;5;124m'\u001b[39m\u001b[38;5;124mMorning Star Pattern\u001b[39m\u001b[38;5;124m'\u001b[39m)\n",
      "\u001b[0;31mNameError\u001b[0m: name 'plt' is not defined"
     ]
    }
   ],
   "source": [
    "# Plot the stock data with the morning star patterns highlighted\n",
    "fig, ax = plt.subplots(figsize=(20, 10))\n",
    "ax.plot(df['Date'], df['Close'], label='Closing Price')\n",
    "ax.scatter(morning_star_dates, df[morning_star_mask]['Close'], color='r', label='Morning Star Pattern')\n",
    "ax.set_title('Stock data with morning star patterns')\n",
    "ax.set_xlabel('Date')\n",
    "ax.set_ylabel('Price')\n",
    "ax.legend()\n",
    "plt.show()"
   ]
  }
 ],
 "metadata": {
  "colab": {
   "authorship_tag": "ABX9TyM23cCx0l/imInoi9ae+b7A",
   "provenance": []
  },
  "kernelspec": {
   "display_name": "Python 3 (ipykernel)",
   "language": "python",
   "name": "python3"
  },
  "language_info": {
   "codemirror_mode": {
    "name": "ipython",
    "version": 3
   },
   "file_extension": ".py",
   "mimetype": "text/x-python",
   "name": "python",
   "nbconvert_exporter": "python",
   "pygments_lexer": "ipython3",
   "version": "3.11.3"
  }
 },
 "nbformat": 4,
 "nbformat_minor": 1
}
